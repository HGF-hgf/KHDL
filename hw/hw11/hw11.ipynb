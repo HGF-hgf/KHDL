{
 "cells": [
  {
   "cell_type": "code",
   "execution_count": 1,
   "id": "ac38f9dc",
   "metadata": {
    "deletable": false,
    "editable": false
   },
   "outputs": [],
   "source": [
    "# Initialize Otter\n",
    "import otter\n",
    "grader = otter.Notebook(\"hw11.ipynb\")"
   ]
  },
  {
   "cell_type": "markdown",
   "id": "8c534309",
   "metadata": {},
   "source": [
    "<img src=\"data8logo.png\" alt=\"Data 8 Logo\" style=\"width: 15%; float: right; padding: 1%; margin-right: 2%;\"/>\n",
    "\n",
    "# Homework 11: Regression Inference\n",
    "\n",
    "**Helpful Resource:**\n",
    "\n",
    "- [Python Reference](http://data8.org/fa24/reference/): Cheat sheet of helpful array & table methods used in Data 8!\n",
    "\n",
    "**Recommended Reading**: \n",
    "\n",
    "* [Using Confidence Intervals](https://inferentialthinking.com/chapters/13/4/Using_Confidence_Intervals.html)\n",
    "* [The Regression Line](https://inferentialthinking.com/chapters/15/2/Regression_Line.html#the-regression-line-in-standard-units)\n",
    "* [Inference for Regression](https://www.inferentialthinking.com/chapters/16/Inference_for_Regression.html)"
   ]
  },
  {
   "attachments": {},
   "cell_type": "markdown",
   "id": "bcd1f6c2",
   "metadata": {},
   "source": [
    "Please complete this notebook by filling in the cells provided. **Before you begin, execute the cell below to setup the notebook by importing some helpful libraries.** Each time you start your server, you will need to execute this cell again.\n",
    "\n",
    "For all problems that you must write explanations and sentences for, you **must** provide your answer in the designated space. Moreover, throughout this homework and all future ones, **please be sure to not re-assign variables throughout the notebook!** For example, if you use `max_temperature` in your answer to one question, do not reassign it later on. Otherwise, you will fail tests that you thought you were passing previously!\n",
    "\n",
    "**Deadline:**\n",
    "\n",
    "This assignment is **due Wednesday, 11/20 at 5:00pm PT**. Submissions after this time will be accepted for 24 hours and will incur a 20% penalty. Any submissions later than this 24 hour period will not be accepted unless an extension has been granted as per the [policies](http://data8.org/fa24/policies/) page. Turn it in by Tuesday, 11/19 at 5:00pm PT for 5 extra credit points.\n",
    "\n",
    "<span style=\"color:red\">**Note: This homework has hidden tests on it. That means even though tests may say 100% passed, it doesn't mean your final grade will be 100%. We will be running more tests for correctness once everyone turns in the homework.**</span>\n",
    "\n",
    "Directly sharing answers is not okay, but discussing problems with the course staff or with other students is encouraged. Refer to the [policies](http://data8.org/fa24/policies/#learning-cooperatively) page to learn more about how to learn cooperatively.\n",
    "\n",
    "You should start early so that you have time to get help if you're stuck. Office hours are held Monday through Friday in [Warren Hall](https://www.berkeley.edu/map?warren) 101B. The office hours schedule appears [here](http://data8.org/fa24/schedule/)."
   ]
  },
  {
   "cell_type": "markdown",
   "id": "17201275",
   "metadata": {},
   "source": [
    "---\n",
    "\n",
    "The point breakdown for this assignment is given in the table below:\n",
    "| Category | Points |\n",
    "| --- | --- |\n",
    "| Autograder (Coding questions) | 54 |\n",
    "| Written (1.1, 1.4, 1.6, 1.7, 2.4) | 46 |\n",
    "| **Total** | 100 |"
   ]
  },
  {
   "cell_type": "code",
   "execution_count": 2,
   "id": "68d739c4",
   "metadata": {},
   "outputs": [],
   "source": [
    "# Don't change this cell; just run it. \n",
    "\n",
    "import numpy as np\n",
    "from datascience import *\n",
    "\n",
    "# These lines do some fancy plotting magic\n",
    "import matplotlib\n",
    "%matplotlib inline\n",
    "import matplotlib.pyplot as plt\n",
    "plt.style.use('fivethirtyeight')\n",
    "import warnings\n",
    "warnings.simplefilter('ignore')\n",
    "from datetime import datetime"
   ]
  },
  {
   "cell_type": "markdown",
   "id": "5ecb6b61",
   "metadata": {},
   "source": [
    "<hr style=\"border: 5px solid #003262;\" />\n",
    "<hr style=\"border: 1px solid #fdb515;\" />\n",
    "\n",
    "## 0. Data 8 Final Exam Accomodations Form"
   ]
  },
  {
   "cell_type": "markdown",
   "id": "c8a8f451",
   "metadata": {},
   "source": [
    "You can find the final exam accomodations form [here](https://docs.google.com/forms/d/e/1FAIpQLScO8zQfwOa5G8l8UMxfntxglQa5Jj2rHP3g3OncZbzfvLb2Tg/viewform?usp=sf_link). All students must fill out the form so we can better accomodate everyone for the final exam."
   ]
  },
  {
   "cell_type": "markdown",
   "id": "42e536ff",
   "metadata": {},
   "source": [
    "---\n",
    "\n",
    "**Question 0.1.** Fill out the final exam accomodations form linked above. Once you have submitted, a secret word will be displayed. Set `secret_word` to the secret string at the end of the form. **(4 points)**"
   ]
  },
  {
   "cell_type": "code",
   "execution_count": 3,
   "id": "28409b2a",
   "metadata": {
    "tags": []
   },
   "outputs": [],
   "source": [
    "secret_word = ..."
   ]
  },
  {
   "cell_type": "code",
   "execution_count": 4,
   "id": "232e7346",
   "metadata": {
    "deletable": false,
    "editable": false
   },
   "outputs": [
    {
     "data": {
      "text/html": [
       "<p><strong style='color: red;'><pre style='display: inline;'>q0_1</pre> results:</strong></p><p><strong><pre style='display: inline;'>q0_1 - 1</pre> result:</strong></p><pre>    ❌ Test case failed\n",
       "    Trying:\n",
       "        len(secret_word) > 0\n",
       "    Expecting:\n",
       "        True\n",
       "    **********************************************************************\n",
       "    Line 1, in q0_1 0\n",
       "    Failed example:\n",
       "        len(secret_word) > 0\n",
       "    Exception raised:\n",
       "        Traceback (most recent call last):\n",
       "          File \"/home/nguyen-hoang/miniconda3/envs/KHDL/lib/python3.12/doctest.py\", line 1368, in __run\n",
       "            exec(compile(example.source, filename, \"single\",\n",
       "          File \"<doctest q0_1 0[0]>\", line 1, in <module>\n",
       "            len(secret_word) > 0\n",
       "            ^^^^^^^^^^^^^^^^\n",
       "        TypeError: object of type 'ellipsis' has no len()\n",
       "</pre>"
      ],
      "text/plain": [
       "q0_1 results:\n",
       "    q0_1 - 1 result:\n",
       "        ❌ Test case failed\n",
       "        Trying:\n",
       "            len(secret_word) > 0\n",
       "        Expecting:\n",
       "            True\n",
       "        **********************************************************************\n",
       "        Line 1, in q0_1 0\n",
       "        Failed example:\n",
       "            len(secret_word) > 0\n",
       "        Exception raised:\n",
       "            Traceback (most recent call last):\n",
       "              File \"/home/nguyen-hoang/miniconda3/envs/KHDL/lib/python3.12/doctest.py\", line 1368, in __run\n",
       "                exec(compile(example.source, filename, \"single\",\n",
       "              File \"<doctest q0_1 0[0]>\", line 1, in <module>\n",
       "                len(secret_word) > 0\n",
       "                ^^^^^^^^^^^^^^^^\n",
       "            TypeError: object of type 'ellipsis' has no len()"
      ]
     },
     "execution_count": 4,
     "metadata": {},
     "output_type": "execute_result"
    }
   ],
   "source": [
    "grader.check(\"q0_1\")"
   ]
  },
  {
   "cell_type": "markdown",
   "id": "45a21ff7",
   "metadata": {},
   "source": [
    "<hr style=\"border: 5px solid #003262;\" />\n",
    "<hr style=\"border: 1px solid #fdb515;\" />\n",
    "\n",
    "<a id=\"intro\"></a>\n",
    "## An Introduction to Regression Inference"
   ]
  },
  {
   "cell_type": "markdown",
   "id": "34d80690",
   "metadata": {},
   "source": [
    "Previously in this class, we've used confidence intervals to quantify uncertainty about estimates. We can also run hypothesis tests using a confidence interval under the following procedure:\n",
    "\n",
    "1. Define a null and alternative hypothesis (they must be of the form \"The parameter is X\" and \"The parameter is not X\").\n",
    "2. Choose a p-value cutoff, and call it $q$.\n",
    "3. Construct a $(100-q)\\%$ interval using bootstrap sampling (for example, if your p-value cutoff is 0.01, or 1%, then construct a 99% confidence interval).\n",
    "4. Using the confidence interval, determine if your data are more consistent with your null or alternative hypothesis:\n",
    "   * If the null hypothesis parameter X is in your confidence interval, the data are more consistent with the null hypothesis.\n",
    "   * If the null hypothesis parameter X is *not* in your confidence interval, the data are more consistent with the alternative hypothesis.\n",
    "\n",
    "More recently, we've discussed the use of linear regression to make predictions based on correlated variables. For example, we can predict the height of children based on the heights of their parents.\n",
    "\n",
    "We can combine these two topics to make powerful statements about our population by using the following techniques:\n",
    "\n",
    "- Bootstrapped interval for the true slope\n",
    "- Bootstrapped prediction interval for y (given a particular value of x)\n",
    "\n",
    "This homework explores these two methods."
   ]
  },
  {
   "cell_type": "markdown",
   "id": "822fe4b3",
   "metadata": {},
   "source": [
    "---\n",
    "\n",
    "## The Data\n",
    "The [Snowy Plover](https://www.audubon.org/field-guide/bird/snowy-plover) is a tiny bird that lives on the coast in parts of California and elsewhere. It is so small that it is vulnerable to many predators, including people and dogs that don't look where they are stepping when they go to the beach. It is considered endangered in many parts of the U.S.\n",
    "\n",
    "The data are about the eggs and newly-hatched chicks of the Snowy Plover. Here's a picture of [a parent bird incubating its eggs](http://cescos.fau.edu/jay/eps/articles/snowyplover.html).\n",
    "\n",
    "<img src=\"plover_and_eggs.jpeg\" alt=\"Plover and Eggs\">\n",
    "\n",
    "The data were collected at the Point Reyes National Seashore by a former [student at Berkeley](https://openlibrary.org/books/OL2038693M/BLSS_the_Berkeley_interactive_statistical_system). The goal was to see how the size of an egg could be used to predict the weight of the resulting chick. The bigger the newly-hatched chick, the more likely it is to survive.\n",
    "\n",
    "<img src=\"plover_and_chick.jpeg\" alt=\"Plover and Chick\">\n",
    "\n",
    "Each row of the table below corresponds to one Snowy Plover egg and the resulting chick. Note how tiny the bird is:\n",
    "\n",
    "- `Egg Length` and `Egg Breadth` (widest diameter) are measured in millimeters\n",
    "- `Egg Weight` and `Bird Weight` are measured in grams; for comparison, a standard paper clip weighs about one gram"
   ]
  },
  {
   "cell_type": "code",
   "execution_count": 5,
   "id": "05f18e16",
   "metadata": {},
   "outputs": [
    {
     "data": {
      "text/html": [
       "<table border=\"1\" class=\"dataframe\">\n",
       "    <thead>\n",
       "        <tr>\n",
       "            <th>Egg Length</th> <th>Egg Breadth</th> <th>Egg Weight</th> <th>Bird Weight</th>\n",
       "        </tr>\n",
       "    </thead>\n",
       "    <tbody>\n",
       "        <tr>\n",
       "            <td>28.8      </td> <td>21.84      </td> <td>7.4       </td> <td>5.2        </td>\n",
       "        </tr>\n",
       "        <tr>\n",
       "            <td>29.04     </td> <td>22.45      </td> <td>7.7       </td> <td>5.4        </td>\n",
       "        </tr>\n",
       "        <tr>\n",
       "            <td>29.36     </td> <td>22.48      </td> <td>7.9       </td> <td>5.6        </td>\n",
       "        </tr>\n",
       "        <tr>\n",
       "            <td>30.1      </td> <td>21.71      </td> <td>7.5       </td> <td>5.3        </td>\n",
       "        </tr>\n",
       "        <tr>\n",
       "            <td>30.17     </td> <td>22.75      </td> <td>8.3       </td> <td>5.9        </td>\n",
       "        </tr>\n",
       "        <tr>\n",
       "            <td>30.34     </td> <td>22.84      </td> <td>8.5       </td> <td>5.8        </td>\n",
       "        </tr>\n",
       "        <tr>\n",
       "            <td>30.36     </td> <td>22.5       </td> <td>8.2       </td> <td>5.8        </td>\n",
       "        </tr>\n",
       "        <tr>\n",
       "            <td>30.46     </td> <td>22.72      </td> <td>8.3       </td> <td>6          </td>\n",
       "        </tr>\n",
       "        <tr>\n",
       "            <td>30.54     </td> <td>23.31      </td> <td>9         </td> <td>6.1        </td>\n",
       "        </tr>\n",
       "        <tr>\n",
       "            <td>30.62     </td> <td>22.94      </td> <td>8.5       </td> <td>6.2        </td>\n",
       "        </tr>\n",
       "    </tbody>\n",
       "</table>\n",
       "<p>... (34 rows omitted)</p>"
      ],
      "text/plain": [
       "Egg Length | Egg Breadth | Egg Weight | Bird Weight\n",
       "28.8       | 21.84       | 7.4        | 5.2\n",
       "29.04      | 22.45       | 7.7        | 5.4\n",
       "29.36      | 22.48       | 7.9        | 5.6\n",
       "30.1       | 21.71       | 7.5        | 5.3\n",
       "30.17      | 22.75       | 8.3        | 5.9\n",
       "30.34      | 22.84       | 8.5        | 5.8\n",
       "30.36      | 22.5        | 8.2        | 5.8\n",
       "30.46      | 22.72       | 8.3        | 6\n",
       "30.54      | 23.31       | 9          | 6.1\n",
       "30.62      | 22.94       | 8.5        | 6.2\n",
       "... (34 rows omitted)"
      ]
     },
     "execution_count": 5,
     "metadata": {},
     "output_type": "execute_result"
    }
   ],
   "source": [
    "birds = Table.read_table('snowy_plover.csv')\n",
    "birds"
   ]
  },
  {
   "cell_type": "markdown",
   "id": "46d7cd44",
   "metadata": {},
   "source": [
    "In this investigation, we will be using the egg weight to predict bird weight. Run the cell below to create a scatter plot of the egg weights and bird weights, along with their line of best fit."
   ]
  },
  {
   "cell_type": "code",
   "execution_count": 6,
   "id": "2bdc3aee",
   "metadata": {},
   "outputs": [
    {
     "data": {
      "image/png": "[encoded data removed]",
      "text/plain": [
       "<Figure size 500x500 with 1 Axes>"
      ]
     },
     "metadata": {},
     "output_type": "display_data"
    }
   ],
   "source": [
    "# Just run this cell and examine the scatter plot.\n",
    "birds.scatter('Egg Weight', \"Bird Weight\", fit_line=True)"
   ]
  },
  {
   "cell_type": "markdown",
   "id": "4297f200",
   "metadata": {},
   "source": [
    "<hr style=\"border: 5px solid #003262;\" />\n",
    "<hr style=\"border: 1px solid #fdb515;\" />\n",
    "\n",
    "## 1. Finding the Bootstrap Confidence Interval for the True Slope\n",
    "\n",
    "Looking at the scatter plot of our sample, we observe a linear relationship between egg weight and bird weight. However, relationships that appear in a sample might not exist in the population from which the sample was taken.\n",
    "\n",
    "We want to know if there truly exists a linear relationship between egg weight and bird weight for Snowy Plovers. If there is no linear relationship between the two variables, then we'd expect a correlation of 0. Consequently, the slope of the regression line would also be 0. \n",
    "\n",
    "We highly recommend reviewing section [16.2](https://inferentialthinking.com/chapters/16/2/Inference_for_the_True_Slope.html) before attempting this part of the homework"
   ]
  },
  {
   "cell_type": "markdown",
   "id": "08ce77a4",
   "metadata": {},
   "source": [
    "<!-- BEGIN QUESTION -->\n",
    "\n",
    "---\n",
    "\n",
    "**Question 1.1.** Let's run a hypothesis test using confidence intervals to see if there is a linear relationship between egg weight and bird weight. Define the null and alternative hypotheses that will allow you to conduct this test. **(8 points)**\n",
    "\n",
    "*Note:* Please write your answer **in the cell below** in the following format:\n",
    "- **Null Hypothesis:**\n",
    "- **Alternative Hypothesis:**\n",
    "\n",
    "> **Hint:** Reminder your null hypothesis should be about the relationship in the population. "
   ]
  },
  {
   "cell_type": "markdown",
   "id": "604be112",
   "metadata": {},
   "source": [
    "_Type your answer here, replacing this text._"
   ]
  },
  {
   "cell_type": "markdown",
   "id": "a5a72943",
   "metadata": {},
   "source": [
    "<!-- END QUESTION -->\n",
    "\n",
    "---\n",
    "\n",
    "**Question 1.2.** Define the following two functions:\n",
    "\n",
    "1. `standard_units`: This function takes in an array of numbers and returns an array containing those numbers converted to standard units.\n",
    "2. `correlation`: This function takes in a table and two column names (one for *x* and one for *y*) and returns the correlation between these columns. \n",
    "\n",
    "**(4 points)**\n"
   ]
  },
  {
   "cell_type": "code",
   "execution_count": 9,
   "id": "4ded1f4f",
   "metadata": {
    "ExecuteTime": {
     "end_time": "2018-04-11T12:05:50.894154Z",
     "start_time": "2018-04-11T12:05:50.889145Z"
    },
    "deletable": false,
    "tags": []
   },
   "outputs": [],
   "source": [
    "def standard_units(arr):\n",
    "    return (arr-np.mean(arr))/np.std(arr)\n",
    "\n",
    "def correlation(tbl, x_col, y_col):\n",
    "    x = tbl.column(x_col)\n",
    "    y = tbl.column(y_col)\n",
    "    return np.mean(standard_units(x)*standard_units(y))"
   ]
  },
  {
   "cell_type": "code",
   "execution_count": 10,
   "id": "6babe3f2",
   "metadata": {
    "deletable": false,
    "editable": false
   },
   "outputs": [
    {
     "data": {
      "text/html": [
       "<p><strong><pre style='display: inline;'>q1_2</pre></strong> passed! 🎉</p>"
      ],
      "text/plain": [
       "q1_2 results: All test cases passed!"
      ]
     },
     "execution_count": 10,
     "metadata": {},
     "output_type": "execute_result"
    }
   ],
   "source": [
    "grader.check(\"q1_2\")"
   ]
  },
  {
   "cell_type": "markdown",
   "id": "1a5fd9c0",
   "metadata": {},
   "source": [
    "---\n",
    "\n",
    "**Question 1.3.** Using the functions you just implemented, create a function called `fit_line`.  It should take a table (e.g. `birds`) and the column names associated to *x* and *y* as its arguments and return an *array* containing the slope and intercept of the regression line (in that order) that predicts the *y* column in the table using the *x* column. **(8 points)**\n"
   ]
  },
  {
   "cell_type": "code",
   "execution_count": 12,
   "id": "5b2966d6",
   "metadata": {
    "ExecuteTime": {
     "end_time": "2018-04-11T12:05:51.483516Z",
     "start_time": "2018-04-11T12:05:51.472484Z"
    },
    "for_assignment_type": "solution",
    "tags": []
   },
   "outputs": [
    {
     "data": {
      "text/plain": [
       "array([ 0.71851534, -0.05827226])"
      ]
     },
     "execution_count": 12,
     "metadata": {},
     "output_type": "execute_result"
    }
   ],
   "source": [
    "def fit_line(tbl, x_col, y_col):\n",
    "    x = tbl.column(x_col)\n",
    "    y = tbl.column(y_col)\n",
    "    r = correlation(tbl, x_col, y_col)\n",
    "    slope = r*np.std(y)/np.std(x)\n",
    "    intercept=np.mean(y) - slope*np.mean(x)\n",
    "    return make_array(slope, intercept)\n",
    "fit_line(birds, \"Egg Weight\", \"Bird Weight\")"
   ]
  },
  {
   "cell_type": "code",
   "execution_count": 13,
   "id": "1ba9a26b",
   "metadata": {
    "deletable": false,
    "editable": false
   },
   "outputs": [
    {
     "data": {
      "text/html": [
       "<p><strong><pre style='display: inline;'>q1_3</pre></strong> passed! 🌟</p>"
      ],
      "text/plain": [
       "q1_3 results: All test cases passed!"
      ]
     },
     "execution_count": 13,
     "metadata": {},
     "output_type": "execute_result"
    }
   ],
   "source": [
    "grader.check(\"q1_3\")"
   ]
  },
  {
   "cell_type": "markdown",
   "id": "bc3c71a5",
   "metadata": {},
   "source": [
    "**Run** this cell to plot the line produced by calling `fit_line` on the `birds` table.  \n",
    "\n",
    "**Note:** You are not responsible for the code in the cell below, but make sure that your `fit_line` function generated a reasonable line for the data."
   ]
  },
  {
   "cell_type": "code",
   "execution_count": 14,
   "id": "defd3a01",
   "metadata": {
    "ExecuteTime": {
     "end_time": "2018-04-11T12:05:51.754766Z",
     "start_time": "2018-04-11T12:05:51.624390Z"
    }
   },
   "outputs": [
    {
     "data": {
      "image/png": "[encoded data removed]",
      "text/plain": [
       "<Figure size 500x500 with 1 Axes>"
      ]
     },
     "metadata": {},
     "output_type": "display_data"
    }
   ],
   "source": [
    "# Ensure your fit_line function fits a reasonable line \n",
    "# to the data in birds, using the plot below.\n",
    "\n",
    "# Just run this cell\n",
    "sample_slope, sample_intercept = fit_line(birds, \"Egg Weight\", \"Bird Weight\")\n",
    "birds.scatter(\"Egg Weight\", \"Bird Weight\")\n",
    "plt.plot([min(birds.column(\"Egg Weight\")), max(birds.column(\"Egg Weight\"))], \n",
    "         [sample_slope*min(birds.column(\"Egg Weight\"))+sample_intercept, sample_slope*max(birds.column(\"Egg Weight\"))+sample_intercept])\n",
    "plt.show()"
   ]
  },
  {
   "cell_type": "markdown",
   "id": "6af3a112",
   "metadata": {},
   "source": [
    "Now we have all the tools we need to create a confidence interval that quantifies our uncertainty about the true relationship between egg weight and bird weight."
   ]
  },
  {
   "cell_type": "markdown",
   "id": "2ec1f979",
   "metadata": {},
   "source": [
    "<!-- BEGIN QUESTION -->\n",
    "\n",
    "---\n",
    "\n",
    "**Question 1.4.** Create an array called `resampled_slopes` that contains the slope of the best fit line for 1000 bootstrap resamples of `birds`. Plot the distribution of these slopes. **(8 points)**"
   ]
  },
  {
   "cell_type": "code",
   "execution_count": 16,
   "id": "788dd972",
   "metadata": {
    "for_assignment_type": "solution",
    "tags": []
   },
   "outputs": [
    {
     "data": {
      "image/png": "[encoded data removed]",
      "text/plain": [
       "<Figure size 600x400 with 1 Axes>"
      ]
     },
     "metadata": {},
     "output_type": "display_data"
    }
   ],
   "source": [
    "resampled_slopes = make_array()\n",
    "\n",
    "for i in np.arange(1000): \n",
    "    birds_bootstrap = birds.sample()\n",
    "    bootstrap_line = fit_line(birds_bootstrap, \"Egg Weight\", \"Bird Weight\")\n",
    "    bootstrap_slope = bootstrap_line.item(0)\n",
    "    resampled_slopes = np.append(resampled_slopes, bootstrap_slope)\n",
    "    \n",
    "# DO NOT CHANGE THIS LINE\n",
    "Table().with_column(\"Slope estimate\", resampled_slopes).hist()"
   ]
  },
  {
   "cell_type": "code",
   "execution_count": 17,
   "id": "cd0fc0e3",
   "metadata": {
    "deletable": false,
    "editable": false
   },
   "outputs": [
    {
     "data": {
      "text/html": [
       "<p><strong><pre style='display: inline;'>q1_4</pre></strong> passed! 🌟</p>"
      ],
      "text/plain": [
       "q1_4 results: All test cases passed!"
      ]
     },
     "execution_count": 17,
     "metadata": {},
     "output_type": "execute_result"
    }
   ],
   "source": [
    "grader.check(\"q1_4\")"
   ]
  },
  {
   "cell_type": "markdown",
   "id": "faa50092",
   "metadata": {},
   "source": [
    "<!-- END QUESTION -->\n",
    "\n",
    "---\n",
    "\n",
    "**Question 1.5.** Use your resampled slopes to construct an 95% confidence interval for the true value of the slope. **(8 points)**"
   ]
  },
  {
   "cell_type": "code",
   "execution_count": 18,
   "id": "da81d3ab",
   "metadata": {
    "ExecuteTime": {
     "end_time": "2018-04-11T12:05:53.077324Z",
     "start_time": "2018-04-11T12:05:53.072310Z"
    },
    "deletable": false,
    "tags": []
   },
   "outputs": [
    {
     "name": "stdout",
     "output_type": "stream",
     "text": [
      "95% confidence interval for slope: [0.604396, 0.641466]\n"
     ]
    }
   ],
   "source": [
    "lower_end = percentile(2.5, resampled_slopes)\n",
    "upper_end = percentile(07.5, resampled_slopes)\n",
    "print(\"95% confidence interval for slope: [{:g}, {:g}]\".format(lower_end, upper_end))"
   ]
  },
  {
   "cell_type": "code",
   "execution_count": 19,
   "id": "d01c20f0",
   "metadata": {
    "deletable": false,
    "editable": false
   },
   "outputs": [
    {
     "data": {
      "text/html": [
       "<p><strong><pre style='display: inline;'>q1_5</pre></strong> passed! 🍀</p>"
      ],
      "text/plain": [
       "q1_5 results: All test cases passed!"
      ]
     },
     "execution_count": 19,
     "metadata": {},
     "output_type": "execute_result"
    }
   ],
   "source": [
    "grader.check(\"q1_5\")"
   ]
  },
  {
   "cell_type": "markdown",
   "id": "594a9e10",
   "metadata": {},
   "source": [
    "<!-- BEGIN QUESTION -->\n",
    "\n",
    "---\n",
    "\n",
    "**Question 1.6.** Based on your confidence interval, would you reject or fail to reject the null hypothesis that the true slope is 0?  Why?  What p-value cutoff are you using? **(8 points)**\n",
    "\n",
    "*Hint*: Read [the introduction](#intro) of this homework!"
   ]
  },
  {
   "cell_type": "markdown",
   "id": "860a9bbd",
   "metadata": {},
   "source": [
    "_Type your answer here, replacing this text._"
   ]
  },
  {
   "cell_type": "markdown",
   "id": "e2714911",
   "metadata": {},
   "source": [
    "<!-- END QUESTION -->\n",
    "\n",
    "<!-- BEGIN QUESTION -->\n",
    "\n",
    "---\n",
    "\n",
    "**Question 1.7.** Using your results from previous questions, **provide an estimated range for the true slope**. How confident are you that the true slope falls within this range? **(8 points)**"
   ]
  },
  {
   "cell_type": "markdown",
   "id": "805fea7e",
   "metadata": {},
   "source": [
    "_Type your answer here, replacing this text._"
   ]
  },
  {
   "cell_type": "markdown",
   "id": "73f486eb",
   "metadata": {},
   "source": [
    "<!-- END QUESTION -->\n",
    "\n",
    "<hr style=\"border: 5px solid #003262;\" />\n",
    "<hr style=\"border: 1px solid #fdb515;\" />\n",
    "\n",
    "## 2. Finding the Bootstrap Prediction Interval"
   ]
  },
  {
   "cell_type": "markdown",
   "id": "4b63394f",
   "metadata": {},
   "source": [
    "Suppose we're visiting Point Reyes and stumble upon some Snowy Plover eggs; we'd like to know how heavy they'll be once they hatch. In other words, we want to use our regression line to make predictions about a bird's weight based on the weight of the corresponding egg.\n",
    "\n",
    "However, just as we're uncertain about the slope of the true regression line, we're also uncertain about the predictions made based on the true regression line."
   ]
  },
  {
   "cell_type": "markdown",
   "id": "76a70bd4",
   "metadata": {},
   "source": [
    "---\n",
    "\n",
    "**Question 2.1.** Define the function `fitted_value`.  It should take in four arguments:\n",
    "\n",
    "1. `table`: a table like `birds`.  We'll be predicting the values in the second column using the first.\n",
    "2. `x_col`: the name of our x-column within the input `table`\n",
    "3. `y_col`: the name of our y-column within the input `table`\n",
    "2. `given_x`: a number, the value of the predictor variable for which we'd like to make a prediction.\n",
    "  \n",
    "The function should return the line’s prediction for the given x. **(6 points)**\n",
    "\n",
    "*Hint:* Make sure to use the `fit_line` function you defined in Question 1.3.\n"
   ]
  },
  {
   "cell_type": "code",
   "execution_count": 20,
   "id": "4cb34853",
   "metadata": {
    "ExecuteTime": {
     "end_time": "2018-04-11T12:05:53.935846Z",
     "start_time": "2018-04-11T12:05:53.927826Z"
    },
    "for_assignment_type": "solution",
    "tags": []
   },
   "outputs": [
    {
     "data": {
      "text/plain": [
       "5.689850497215146"
      ]
     },
     "execution_count": 20,
     "metadata": {},
     "output_type": "execute_result"
    }
   ],
   "source": [
    "def fitted_value(table, x_col, y_col, given_x):\n",
    "    line = fit_line(table, x_col, y_col)\n",
    "    slope = line.item(0)\n",
    "    intercept = line.item(1)\n",
    "    return slope*given_x+intercept\n",
    "\n",
    "# Here's an example of how fitted_value is used. The code below\n",
    "# computes the prediction for the bird weight, in grams, based on\n",
    "# an egg weight of 8 grams.\n",
    "egg_weight_eight = fitted_value(birds, \"Egg Weight\", \"Bird Weight\", 8)\n",
    "egg_weight_eight"
   ]
  },
  {
   "cell_type": "code",
   "execution_count": 21,
   "id": "9ec23ffd",
   "metadata": {
    "deletable": false,
    "editable": false
   },
   "outputs": [
    {
     "data": {
      "text/html": [
       "<p><strong><pre style='display: inline;'>q2_1</pre></strong> passed! ✨</p>"
      ],
      "text/plain": [
       "q2_1 results: All test cases passed!"
      ]
     },
     "execution_count": 21,
     "metadata": {},
     "output_type": "execute_result"
    }
   ],
   "source": [
    "grader.check(\"q2_1\")"
   ]
  },
  {
   "cell_type": "markdown",
   "id": "09ef97fa",
   "metadata": {},
   "source": [
    "---\n",
    "\n",
    "**Question 2.2.** Raymond, the resident Snowy Plover expert at Point Reyes, tells us that the egg he has been carefully observing has a weight of 9 grams. Using `fitted_value` above, assign the variable `experts_egg` to the predicted bird weight for Raymond's egg. **(4 points)**\n"
   ]
  },
  {
   "cell_type": "code",
   "execution_count": 22,
   "id": "04a65704",
   "metadata": {
    "ExecuteTime": {
     "end_time": "2018-04-11T12:05:54.430725Z",
     "start_time": "2018-04-11T12:05:54.424720Z"
    },
    "deletable": false,
    "tags": []
   },
   "outputs": [
    {
     "data": {
      "text/plain": [
       "6.408365842108825"
      ]
     },
     "execution_count": 22,
     "metadata": {},
     "output_type": "execute_result"
    }
   ],
   "source": [
    "experts_egg = fitted_value(birds, \"Egg Weight\", \"Bird Weight\", 9)\n",
    "experts_egg"
   ]
  },
  {
   "cell_type": "code",
   "execution_count": 23,
   "id": "d0cceb7b",
   "metadata": {
    "deletable": false,
    "editable": false
   },
   "outputs": [
    {
     "data": {
      "text/html": [
       "<p><strong><pre style='display: inline;'>q2_2</pre></strong> passed! ✨</p>"
      ],
      "text/plain": [
       "q2_2 results: All test cases passed!"
      ]
     },
     "execution_count": 23,
     "metadata": {},
     "output_type": "execute_result"
    }
   ],
   "source": [
    "grader.check(\"q2_2\")"
   ]
  },
  {
   "cell_type": "code",
   "execution_count": 24,
   "id": "36058567",
   "metadata": {
    "scrolled": true
   },
   "outputs": [
    {
     "data": {
      "text/plain": [
       "44"
      ]
     },
     "execution_count": 24,
     "metadata": {},
     "output_type": "execute_result"
    }
   ],
   "source": [
    "# Let's look at the number of rows in the birds table.\n",
    "birds.num_rows"
   ]
  },
  {
   "cell_type": "markdown",
   "id": "2a4ef061",
   "metadata": {},
   "source": [
    "A fellow parkgoer raises the following objection to your prediction:\n",
    "\n",
    "> \"Your prediction depends on your sample of 44 birds.  Wouldn't your prediction change if you had a different sample of 44 birds?\"\n",
    "\n",
    "Having read section [16.3](https://inferentialthinking.com/chapters/16/3/Prediction_Intervals.html) of the textbook, you know just the response! Had the sample been different, the regression line would have been different too. This would ultimately result in a different prediction. To see how good our prediction is, we must get a sense of how variable the prediction can be."
   ]
  },
  {
   "cell_type": "markdown",
   "id": "d6705762",
   "metadata": {},
   "source": [
    "---\n",
    "\n",
    "**Question 2.3.** Define a function `compute_resampled_line` that takes in a table `tbl`and two column names, `x_col` and `y_col`, and returns an array containing the parameters of the best fit line (slope and intercept) for one bootstrapped resample of the table. **(6 points)**\n"
   ]
  },
  {
   "cell_type": "code",
   "execution_count": 27,
   "id": "407ad9ae",
   "metadata": {
    "tags": []
   },
   "outputs": [],
   "source": [
    "def compute_resampled_line(tbl, x_col, y_col):\n",
    "    resample = tbl.sample()\n",
    "    resampled_line = fit_line(resample, x_col, y_col)\n",
    "    return resampled_line"
   ]
  },
  {
   "cell_type": "code",
   "execution_count": 28,
   "id": "bd8ea5da",
   "metadata": {
    "deletable": false,
    "editable": false
   },
   "outputs": [
    {
     "data": {
      "text/html": [
       "<p><strong><pre style='display: inline;'>q2_3</pre></strong> passed! 🌟</p>"
      ],
      "text/plain": [
       "q2_3 results: All test cases passed!"
      ]
     },
     "execution_count": 28,
     "metadata": {},
     "output_type": "execute_result"
    }
   ],
   "source": [
    "grader.check(\"q2_3\")"
   ]
  },
  {
   "cell_type": "markdown",
   "id": "e03d76d9",
   "metadata": {},
   "source": [
    "**Run** the following cell below in order to define the function `bootstrap_lines`.  It takes in four arguments:\n",
    "1. `tbl`: a table like `birds`\n",
    "2. `x_col`: the name of our x-column within the input `tbl`\n",
    "3. `y_col`: the name of our y-column within the input `tbl`\n",
    "4. `num_bootstraps`: an integer, a number of bootstraps to run.\n",
    "\n",
    "It returns a *table* with one row for each bootstrap resample and the following two columns:\n",
    "1. `Slope`: the bootstrapped slopes \n",
    "2. `Intercept`: the corresponding bootstrapped intercepts "
   ]
  },
  {
   "cell_type": "code",
   "execution_count": 29,
   "id": "ae384455",
   "metadata": {
    "ExecuteTime": {
     "end_time": "2018-04-11T12:05:55.698074Z",
     "start_time": "2018-04-11T12:05:55.243866Z"
    },
    "for_assignment_type": "solution"
   },
   "outputs": [
    {
     "data": {
      "text/html": [
       "<table border=\"1\" class=\"dataframe\">\n",
       "    <thead>\n",
       "        <tr>\n",
       "            <th>Slope</th> <th>Intercept</th>\n",
       "        </tr>\n",
       "    </thead>\n",
       "    <tbody>\n",
       "        <tr>\n",
       "            <td>0.706505</td> <td>0.0788713</td>\n",
       "        </tr>\n",
       "        <tr>\n",
       "            <td>0.731325</td> <td>-0.203545</td>\n",
       "        </tr>\n",
       "        <tr>\n",
       "            <td>0.757398</td> <td>-0.343307</td>\n",
       "        </tr>\n",
       "        <tr>\n",
       "            <td>0.742604</td> <td>-0.294966</td>\n",
       "        </tr>\n",
       "        <tr>\n",
       "            <td>0.728979</td> <td>-0.197192</td>\n",
       "        </tr>\n",
       "        <tr>\n",
       "            <td>0.706186</td> <td>0.0642526</td>\n",
       "        </tr>\n",
       "        <tr>\n",
       "            <td>0.682823</td> <td>0.184539 </td>\n",
       "        </tr>\n",
       "        <tr>\n",
       "            <td>0.757975</td> <td>-0.37251 </td>\n",
       "        </tr>\n",
       "        <tr>\n",
       "            <td>0.758272</td> <td>-0.384826</td>\n",
       "        </tr>\n",
       "        <tr>\n",
       "            <td>0.725293</td> <td>-0.105303</td>\n",
       "        </tr>\n",
       "    </tbody>\n",
       "</table>\n",
       "<p>... (990 rows omitted)</p>"
      ],
      "text/plain": [
       "Slope    | Intercept\n",
       "0.706505 | 0.0788713\n",
       "0.731325 | -0.203545\n",
       "0.757398 | -0.343307\n",
       "0.742604 | -0.294966\n",
       "0.728979 | -0.197192\n",
       "0.706186 | 0.0642526\n",
       "0.682823 | 0.184539\n",
       "0.757975 | -0.37251\n",
       "0.758272 | -0.384826\n",
       "0.725293 | -0.105303\n",
       "... (990 rows omitted)"
      ]
     },
     "execution_count": 29,
     "metadata": {},
     "output_type": "execute_result"
    }
   ],
   "source": [
    "# Just run this cell\n",
    "def bootstrap_lines(tbl, x_col, y_col, num_bootstraps):\n",
    "    resampled_slopes = make_array()\n",
    "    resampled_intercepts = make_array() \n",
    "    for i in np.arange(num_bootstraps): \n",
    "        resampled_line = compute_resampled_line(tbl, x_col, y_col) \n",
    "        resampled_slope = resampled_line.item(0) \n",
    "        resampled_intercept = resampled_line.item(1) \n",
    "        resampled_slopes = np.append(resampled_slopes,resampled_slope)\n",
    "        resampled_intercepts = np.append(resampled_intercepts,resampled_intercept)\n",
    "    tbl_lines = Table().with_columns('Slope', resampled_slopes, 'Intercept', resampled_intercepts)\n",
    "    return tbl_lines\n",
    "\n",
    "regression_lines = bootstrap_lines(birds, \"Egg Weight\", \"Bird Weight\", 1000)\n",
    "regression_lines"
   ]
  },
  {
   "cell_type": "markdown",
   "id": "8fad537a",
   "metadata": {},
   "source": [
    "<!-- BEGIN QUESTION -->\n",
    "\n",
    "---\n",
    "\n",
    "**Question 2.4.** Create an array called `predictions_for_eight` that contains the predicted bird weights based on an egg of weight 8 grams for each regression line in `regression_lines`. **(6 points)**"
   ]
  },
  {
   "cell_type": "code",
   "execution_count": 34,
   "id": "fb291934-68d7-46fd-a673-6f444bd8b13b",
   "metadata": {},
   "outputs": [
    {
     "data": {
      "text/plain": [
       "array([ 0.70650533,  0.7313252 ,  0.75739849,  0.74260385,  0.72897887,\n",
       "        0.70618611,  0.68282313,  0.75797525,  0.75827181,  0.72529317,\n",
       "        0.67319924,  0.74057713,  0.72686772,  0.75041429,  0.65043253,\n",
       "        0.68284595,  0.66891202,  0.74782103,  0.67745928,  0.72953737,\n",
       "        0.7533665 ,  0.80973434,  0.71103161,  0.78675387,  0.79198133,\n",
       "        0.75963761,  0.71229511,  0.68600047,  0.76509967,  0.73460509,\n",
       "        0.81897765,  0.67503966,  0.68840431,  0.77167468,  0.56243324,\n",
       "        0.74517034,  0.73392919,  0.74626114,  0.80463022,  0.75442517,\n",
       "        0.7052739 ,  0.59606127,  0.76357067,  0.84128327,  0.68963486,\n",
       "        0.72472594,  0.68074167,  0.72554108,  0.68963193,  0.70093976,\n",
       "        0.80132829,  0.72606973,  0.73400412,  0.76346154,  0.62812555,\n",
       "        0.72208237,  0.68278122,  0.78135337,  0.76133319,  0.72631358,\n",
       "        0.79535134,  0.69083268,  0.66011841,  0.76205771,  0.70505388,\n",
       "        0.60396128,  0.70485645,  0.75485304,  0.70594059,  0.74508252,\n",
       "        0.75731912,  0.69661805,  0.69824891,  0.78294924,  0.75707612,\n",
       "        0.72176954,  0.74057531,  0.69592153,  0.65443721,  0.627098  ,\n",
       "        0.72466694,  0.68056524,  0.68275704,  0.66199599,  0.69448025,\n",
       "        0.74828515,  0.66089395,  0.71734976,  0.7783225 ,  0.67796492,\n",
       "        0.65501326,  0.69907557,  0.67215933,  0.66569245,  0.73296167,\n",
       "        0.68394864,  0.76370114,  0.71693771,  0.73529412,  0.64896158,\n",
       "        0.78059483,  0.70978673,  0.74715108,  0.788153  ,  0.65441682,\n",
       "        0.75441312,  0.76442698,  0.60341032,  0.70444512,  0.80191635,\n",
       "        0.68693694,  0.66570497,  0.684008  ,  0.73587931,  0.76516937,\n",
       "        0.73647443,  0.71623318,  0.74415979,  0.76987725,  0.62293172,\n",
       "        0.65654189,  0.68636331,  0.71295307,  0.72644606,  0.68808411,\n",
       "        0.75304064,  0.74488288,  0.73291252,  0.73155786,  0.76217557,\n",
       "        0.72655479,  0.72996011,  0.79862386,  0.76253439,  0.72199121,\n",
       "        0.6384441 ,  0.71528511,  0.73868706,  0.63301198,  0.65074786,\n",
       "        0.74074074,  0.69671102,  0.65172087,  0.71318291,  0.72349845,\n",
       "        0.69510665,  0.72956785,  0.67539548,  0.80175908,  0.74772291,\n",
       "        0.7215955 ,  0.7271942 ,  0.73440304,  0.67642939,  0.71248916,\n",
       "        0.73360084,  0.63946588,  0.84544406,  0.70471827,  0.68721322,\n",
       "        0.75881311,  0.69576136,  0.71032342,  0.70896532,  0.64633521,\n",
       "        0.71009368,  0.66518374,  0.69595206,  0.74916444,  0.73579393,\n",
       "        0.82142771,  0.80498627,  0.68889445,  0.75454115,  0.62846188,\n",
       "        0.77880322,  0.59812818,  0.71208113,  0.64106312,  0.66233152,\n",
       "        0.6742431 ,  0.67809188,  0.70361822,  0.75389313,  0.69249595,\n",
       "        0.6917531 ,  0.82130755,  0.7061753 ,  0.79508271,  0.75365425,\n",
       "        0.67121463,  0.60635327,  0.74695434,  0.67758001,  0.70319669,\n",
       "        0.65402045,  0.63858826,  0.74607494,  0.79328108,  0.69369246,\n",
       "        0.79223986,  0.78054299,  0.71747927,  0.69067132,  0.67733436,\n",
       "        0.73195084,  0.7421118 ,  0.73436877,  0.68701534,  0.74688576,\n",
       "        0.69040943,  0.73058689,  0.67485839,  0.67776853,  0.73649326,\n",
       "        0.64227311,  0.75415194,  0.72668766,  0.6541382 ,  0.67134628,\n",
       "        0.64004324,  0.73787885,  0.70385954,  0.80114022,  0.78086139,\n",
       "        0.65625   ,  0.60590993,  0.77486835,  0.70305857,  0.76027757,\n",
       "        0.72293094,  0.68689912,  0.7269356 ,  0.66208394,  0.72159234,\n",
       "        0.74804968,  0.66445392,  0.7445957 ,  0.72082095,  0.70888176,\n",
       "        0.68208256,  0.71016018,  0.61883513,  0.71847975,  0.71371283,\n",
       "        0.66837305,  0.66593658,  0.67976876,  0.70911917,  0.67645848,\n",
       "        0.73998604,  0.72760592,  0.64476403,  0.68180895,  0.7232362 ,\n",
       "        0.66391509,  0.76266892,  0.70442224,  0.75775731,  0.52729956,\n",
       "        0.71171962,  0.76954117,  0.73693978,  0.78118134,  0.75199705,\n",
       "        0.78569869,  0.75672327,  0.71578534,  0.70521384,  0.75811112,\n",
       "        0.65899026,  0.77685765,  0.76638535,  0.67494815,  0.64822345,\n",
       "        0.5969205 ,  0.70704428,  0.72993848,  0.74321535,  0.74392475,\n",
       "        0.73672674,  0.67756619,  0.79635258,  0.7292849 ,  0.6658425 ,\n",
       "        0.69968981,  0.65408548,  0.72506839,  0.64390134,  0.7263704 ,\n",
       "        0.77810717,  0.68537779,  0.68897003,  0.74975473,  0.76146084,\n",
       "        0.74015248,  0.76672892,  0.63635479,  0.59391214,  0.73147936,\n",
       "        0.75857039,  0.75412371,  0.7114198 ,  0.72875437,  0.71889714,\n",
       "        0.74017994,  0.69197188,  0.75120158,  0.75286507,  0.67583797,\n",
       "        0.77799041,  0.70109272,  0.62182349,  0.72978582,  0.83857055,\n",
       "        0.7366571 ,  0.72356757,  0.71027438,  0.8396979 ,  0.7888455 ,\n",
       "        0.72750353,  0.61473662,  0.66064706,  0.68349581,  0.72730627,\n",
       "        0.73841555,  0.61295884,  0.76710781,  0.68133799,  0.73627249,\n",
       "        0.70530608,  0.68104668,  0.71721021,  0.6108251 ,  0.65339121,\n",
       "        0.5926103 ,  0.7059871 ,  0.66506149,  0.73745349,  0.79828571,\n",
       "        0.76521055,  0.74762801,  0.77217806,  0.58473779,  0.7016149 ,\n",
       "        0.71987121,  0.71351351,  0.67107861,  0.69678923,  0.73042555,\n",
       "        0.75921837,  0.71469338,  0.80658466,  0.65548357,  0.73379259,\n",
       "        0.73226007,  0.75104249,  0.74861643,  0.67227539,  0.73344695,\n",
       "        0.76223548,  0.72607989,  0.75255547,  0.73156463,  0.72918607,\n",
       "        0.66934657,  0.7176944 ,  0.67799388,  0.79396944,  0.66365991,\n",
       "        0.69752167,  0.7661556 ,  0.71686761,  0.61375884,  0.74987701,\n",
       "        0.76340587,  0.77459779,  0.76292376,  0.74357117,  0.66237647,\n",
       "        0.67388122,  0.75057027,  0.71636257,  0.5728999 ,  0.64301558,\n",
       "        0.73328306,  0.67915136,  0.84221106,  0.75990649,  0.73013439,\n",
       "        0.72195638,  0.69439868,  0.70780845,  0.72530742,  0.75726267,\n",
       "        0.69628965,  0.68085711,  0.76424387,  0.62117057,  0.76016811,\n",
       "        0.80896552,  0.85594055,  0.73601556,  0.8003604 ,  0.7753061 ,\n",
       "        0.79811477,  0.63522821,  0.71610272,  0.77726218,  0.82926313,\n",
       "        0.70366115,  0.7128887 ,  0.74773274,  0.74395086,  0.73607169,\n",
       "        0.70823987,  0.69566547,  0.74615594,  0.81866451,  0.69565733,\n",
       "        0.61131711,  0.66913319,  0.687349  ,  0.64363319,  0.69434719,\n",
       "        0.62951563,  0.73491461,  0.64459401,  0.62978526,  0.7519099 ,\n",
       "        0.69176098,  0.65011482,  0.70014771,  0.65562545,  0.72809696,\n",
       "        0.64419805,  0.70494818,  0.70626083,  0.62226883,  0.64751381,\n",
       "        0.66305861,  0.79215523,  0.70920304,  0.79482867,  0.73922442,\n",
       "        0.76505894,  0.64682622,  0.75045026,  0.71311939,  0.69005329,\n",
       "        0.79833008,  0.71374328,  0.69044781,  0.58288445,  0.72396857,\n",
       "        0.7373494 ,  0.70792653,  0.68551092,  0.76079795,  0.62172285,\n",
       "        0.75694562,  0.73225342,  0.75753425,  0.71310716,  0.80491772,\n",
       "        0.56992084,  0.7339047 ,  0.70698704,  0.72736637,  0.67194623,\n",
       "        0.69012858,  0.73609882,  0.74928988,  0.68446424,  0.72760615,\n",
       "        0.74243935,  0.63314761,  0.684375  ,  0.7068484 ,  0.68958258,\n",
       "        0.75613952,  0.65709667,  0.75569138,  0.74923907,  0.67726566,\n",
       "        0.83421122,  0.73587604,  0.66020934,  0.70810826,  0.68236217,\n",
       "        0.71047674,  0.64673622,  0.68287614,  0.65567109,  0.69344972,\n",
       "        0.72467015,  0.66807956,  0.72602191,  0.69139596,  0.66716701,\n",
       "        0.77787792,  0.69123395,  0.79544207,  0.73801561,  0.66760339,\n",
       "        0.65517241,  0.72254553,  0.72303075,  0.66937378,  0.75221239,\n",
       "        0.71518987,  0.74469558,  0.74116663,  0.69078947,  0.64544436,\n",
       "        0.75114855,  0.66331596,  0.72441794,  0.6800562 ,  0.75936552,\n",
       "        0.76123095,  0.81572883,  0.71628105,  0.77895251,  0.66461031,\n",
       "        0.69986486,  0.72312966,  0.61183801,  0.68904375,  0.7605212 ,\n",
       "        0.8182839 ,  0.66638411,  0.66666667,  0.7439548 ,  0.69157972,\n",
       "        0.71005185,  0.66481669,  0.74433128,  0.66283543,  0.65636291,\n",
       "        0.77527419,  0.71288765,  0.84409399,  0.74768373,  0.63538416,\n",
       "        0.71679362,  0.74807451,  0.67922078,  0.74984087,  0.7045986 ,\n",
       "        0.69266661,  0.67603873,  0.6270851 ,  0.6981367 ,  0.73978365,\n",
       "        0.70131952,  0.72424058,  0.78805194,  0.76344391,  0.6751506 ,\n",
       "        0.83429034,  0.70421156,  0.6781604 ,  0.82926444,  0.6451462 ,\n",
       "        0.70846458,  0.68099188,  0.73313628,  0.73535811,  0.56564188,\n",
       "        0.7158875 ,  0.71652918,  0.70899609,  0.7724417 ,  0.62221884,\n",
       "        0.81105388,  0.72346807,  0.70896966,  0.73050833,  0.69753086,\n",
       "        0.74703896,  0.70227091,  0.73477357,  0.65414778,  0.68461538,\n",
       "        0.69918203,  0.64853883,  0.73253676,  0.6666499 ,  0.72402621,\n",
       "        0.69868441,  0.68857646,  0.80507889,  0.66234756,  0.70918542,\n",
       "        0.65687405,  0.69733093,  0.73773811,  0.63943662,  0.75026738,\n",
       "        0.76235943,  0.68304668,  0.71999621,  0.85127298,  0.78082822,\n",
       "        0.76181505,  0.78803042,  0.65458937,  0.62665515,  0.72677005,\n",
       "        0.75484257,  0.7472506 ,  0.72806234,  0.69713468,  0.78335929,\n",
       "        0.60125631,  0.72072131,  0.64616792,  0.73021807,  0.66692624,\n",
       "        0.72861747,  0.67003718,  0.69304471,  0.7105838 ,  0.65931079,\n",
       "        0.75321559,  0.73719258,  0.68627594,  0.58451511,  0.73152415,\n",
       "        0.70432218,  0.66012983,  0.70739106,  0.68167313,  0.65372017,\n",
       "        0.683191  ,  0.78179353,  0.76168147,  0.69921948,  0.62916198,\n",
       "        0.67501533,  0.74958599,  0.86667783,  0.67680394,  0.70692891,\n",
       "        0.74527732,  0.68118668,  0.73293801,  0.70890222,  0.67245035,\n",
       "        0.63913532,  0.7166453 ,  0.76997125,  0.73709568,  0.74550662,\n",
       "        0.76135429,  0.71489463,  0.68547777,  0.73222152,  0.78582782,\n",
       "        0.55371901,  0.73258669,  0.78846598,  0.6853849 ,  0.68171004,\n",
       "        0.73259184,  0.64031697,  0.70953037,  0.69456328,  0.71456739,\n",
       "        0.71690551,  0.72918419,  0.64579846,  0.77227246,  0.6756356 ,\n",
       "        0.77093297,  0.72111187,  0.65919038,  0.62632689,  0.71810725,\n",
       "        0.77939889,  0.76680451,  0.74644057,  0.66979379,  0.64083542,\n",
       "        0.73423304,  0.73120409,  0.70979041,  0.57627061,  0.67382573,\n",
       "        0.74069244,  0.78742938,  0.69136242,  0.7496031 ,  0.7643819 ,\n",
       "        0.73434101,  0.73032604,  0.72757398,  0.70955792,  0.75486441,\n",
       "        0.71013062,  0.78765332,  0.67841163,  0.64320326,  0.66870087,\n",
       "        0.75855297,  0.67299914,  0.69955157,  0.80780521,  0.77750531,\n",
       "        0.72667175,  0.7323903 ,  0.61861449,  0.66060347,  0.75046382,\n",
       "        0.70115235,  0.72324192,  0.77028398,  0.72452932,  0.62551669,\n",
       "        0.7187599 ,  0.68513893,  0.74225573,  0.70333787,  0.67572532,\n",
       "        0.77140848,  0.78274577,  0.71484945,  0.77106472,  0.71320211,\n",
       "        0.69718784,  0.68439441,  0.76878802,  0.79515562,  0.71591782,\n",
       "        0.71610398,  0.72957272,  0.71112442,  0.73802293,  0.67728464,\n",
       "        0.68300828,  0.5635075 ,  0.71162971,  0.67072661,  0.7333516 ,\n",
       "        0.7673854 ,  0.64262161,  0.6792359 ,  0.74980564,  0.71460334,\n",
       "        0.73060211,  0.69512195,  0.70205625,  0.72369486,  0.67963265,\n",
       "        0.69923855,  0.74319777,  0.71728778,  0.64871747,  0.72194001,\n",
       "        0.77258715,  0.695363  ,  0.66392761,  0.73246431,  0.69480305,\n",
       "        0.71178195,  0.69210467,  0.74002281,  0.70728083,  0.70762155,\n",
       "        0.64137271,  0.77395145,  0.73389892,  0.73271536,  0.68065728,\n",
       "        0.71590525,  0.71329684,  0.73308169,  0.71146406,  0.85794118,\n",
       "        0.76868966,  0.73401132,  0.70125896,  0.72120934,  0.6985029 ,\n",
       "        0.8443027 ,  0.7517635 ,  0.71188588,  0.72097235,  0.73507092,\n",
       "        0.65429728,  0.78376094,  0.73494972,  0.68300176,  0.77820362,\n",
       "        0.78024992,  0.84200385,  0.74683772,  0.70522029,  0.59530627,\n",
       "        0.69683414,  0.69855877,  0.74733633,  0.64701503,  0.72596401,\n",
       "        0.79944144,  0.61775771,  0.68427111,  0.645142  ,  0.75065213,\n",
       "        0.74589668,  0.72947541,  0.69527244,  0.74524076,  0.74646672,\n",
       "        0.78366597,  0.7108396 ,  0.73692421,  0.73479101,  0.71318948,\n",
       "        0.7991374 ,  0.66057422,  0.7444751 ,  0.63644252,  0.62193901,\n",
       "        0.79496083,  0.61106395,  0.74042108,  0.78628923,  0.60574579,\n",
       "        0.7981685 ,  0.72044078,  0.66379167,  0.71486858,  0.66841338,\n",
       "        0.81701662,  0.72825179,  0.71171566,  0.72639454,  0.66841888,\n",
       "        0.65195698,  0.70299133,  0.74907402,  0.76641978,  0.74224441,\n",
       "        0.76480924,  0.68493888,  0.71410162,  0.79610229,  0.68741054,\n",
       "        0.7058259 ,  0.76176395,  0.74072622,  0.68540162,  0.69075067,\n",
       "        0.66359132,  0.65226577,  0.58738296,  0.77287582,  0.60874223,\n",
       "        0.78349411,  0.72603783,  0.70451038,  0.71317503,  0.63272829,\n",
       "        0.69083231,  0.6768018 ,  0.82554653,  0.78087416,  0.7091254 ,\n",
       "        0.63916882,  0.73744688,  0.73161093,  0.73160569,  0.76878816,\n",
       "        0.71079412,  0.78542314,  0.74317875,  0.82774855,  0.84182846,\n",
       "        0.72417891,  0.78571256,  0.77144397,  0.63460447,  0.69230109,\n",
       "        0.60349854,  0.69229081,  0.7392352 ,  0.73819897,  0.73496303,\n",
       "        0.64256007,  0.73910219,  0.72688794,  0.68447924,  0.66768889,\n",
       "        0.72422931,  0.76104418,  0.82400845,  0.68661892,  0.67568886,\n",
       "        0.77231638,  0.62388647,  0.74454148,  0.73515771,  0.7695092 ,\n",
       "        0.72278638,  0.78654162,  0.7175087 ,  0.7218401 ,  0.80156854,\n",
       "        0.70728793,  0.63092527,  0.77922642,  0.71968324,  0.67851852,\n",
       "        0.79137026,  0.6552614 ,  0.6785271 ,  0.72444382,  0.74635055,\n",
       "        0.64713518,  0.67343062,  0.7111031 ,  0.75467159,  0.79056012,\n",
       "        0.72315593,  0.73188243,  0.71318116,  0.65598997,  0.65662211,\n",
       "        0.72286552,  0.65494297,  0.66021907,  0.66115019,  0.69715725,\n",
       "        0.64902855,  0.70825038,  0.77793974,  0.62398308,  0.74386921,\n",
       "        0.66702451,  0.66590126,  0.76308064,  0.68445947,  0.73031432,\n",
       "        0.67644545,  0.75181898,  0.71524814,  0.7240057 ,  0.65532177,\n",
       "        0.70062798,  0.63317052,  0.73108133,  0.72564887,  0.77020364,\n",
       "        0.69188741,  0.6972583 ,  0.67038906,  0.75378826,  0.64332588,\n",
       "        0.68421984,  0.70190879,  0.7712342 ,  0.66073263,  0.74062508,\n",
       "        0.69442682,  0.75387841,  0.70583854,  0.76853795,  0.6936858 ,\n",
       "        0.69425381,  0.71367597,  0.70065913,  0.75329438,  0.68017608,\n",
       "        0.77437652,  0.67818281,  0.70617851,  0.7816889 ,  0.74402996,\n",
       "        0.72648017,  0.70260311,  0.70681634,  0.71      ,  0.71587498,\n",
       "        0.78343661,  0.64668778,  0.77832359,  0.77749209,  0.78049816,\n",
       "        0.719707  ,  0.78325835,  0.6924333 ,  0.70952381,  0.64514033,\n",
       "        0.78745156,  0.75712597,  0.6871367 ,  0.69600842,  0.76015691])"
      ]
     },
     "execution_count": 34,
     "metadata": {},
     "output_type": "execute_result"
    }
   ],
   "source": [
    "regression_lines[0]"
   ]
  },
  {
   "cell_type": "code",
   "execution_count": 36,
   "id": "a0856d4d",
   "metadata": {
    "ExecuteTime": {
     "end_time": "2018-04-11T12:05:55.991855Z",
     "start_time": "2018-04-11T12:05:55.759236Z"
    },
    "deletable": false,
    "scrolled": true,
    "tags": []
   },
   "outputs": [
    {
     "data": {
      "image/png": "[encoded data removed]",
      "text/plain": [
       "<Figure size 600x400 with 1 Axes>"
      ]
     },
     "metadata": {},
     "output_type": "display_data"
    }
   ],
   "source": [
    "predictions_for_eight = make_array()\n",
    "slope = regression_lines.column(0)\n",
    "intercept = regression_lines.column(1)\n",
    "for i in range(regression_lines.num_rows):\n",
    "    predictions_for_eight = np.append(predictions_for_eight, slope[i]*8+intercept[i])\n",
    "    \n",
    "# This will make a histogram of your predictions:\n",
    "table_of_predictions = Table().with_column('Predictions at Egg Weight=8', predictions_for_eight)\n",
    "table_of_predictions.hist('Predictions at Egg Weight=8', bins=20)"
   ]
  },
  {
   "cell_type": "code",
   "execution_count": 37,
   "id": "0ce25c14",
   "metadata": {
    "deletable": false,
    "editable": false
   },
   "outputs": [
    {
     "data": {
      "text/html": [
       "<p><strong><pre style='display: inline;'>q2_4</pre></strong> passed! 🙌</p>"
      ],
      "text/plain": [
       "q2_4 results: All test cases passed!"
      ]
     },
     "execution_count": 37,
     "metadata": {},
     "output_type": "execute_result"
    }
   ],
   "source": [
    "grader.check(\"q2_4\")"
   ]
  },
  {
   "cell_type": "markdown",
   "id": "d9caa1d8",
   "metadata": {},
   "source": [
    "<!-- END QUESTION -->\n",
    "\n",
    "---\n",
    "\n",
    "**Question 2.5.** Create an approximate 95% confidence interval for these predictions. **(6 points)**"
   ]
  },
  {
   "cell_type": "code",
   "execution_count": 38,
   "id": "be88378e",
   "metadata": {
    "ExecuteTime": {
     "end_time": "2018-04-11T12:05:56.097136Z",
     "start_time": "2018-04-11T12:05:56.089117Z"
    },
    "deletable": false,
    "scrolled": true,
    "tags": []
   },
   "outputs": [
    {
     "name": "stdout",
     "output_type": "stream",
     "text": [
      "95% Confidence interval for predictions for x=8: ( 5.63242559134 , 5.76570068747 )\n"
     ]
    }
   ],
   "source": [
    "lower_bound = percentile(2.5, predictions_for_eight)\n",
    "upper_bound = percentile(97.5, predictions_for_eight)\n",
    "\n",
    "print('95% Confidence interval for predictions for x=8: (', lower_bound,\",\", upper_bound, ')')"
   ]
  },
  {
   "cell_type": "code",
   "execution_count": 39,
   "id": "605d0cc8",
   "metadata": {
    "deletable": false,
    "editable": false
   },
   "outputs": [
    {
     "data": {
      "text/html": [
       "<p><strong><pre style='display: inline;'>q2_5</pre></strong> passed! ✨</p>"
      ],
      "text/plain": [
       "q2_5 results: All test cases passed!"
      ]
     },
     "execution_count": 39,
     "metadata": {},
     "output_type": "execute_result"
    }
   ],
   "source": [
    "grader.check(\"q2_5\")"
   ]
  },
  {
   "cell_type": "markdown",
   "id": "af92422c",
   "metadata": {},
   "source": [
    "---\n",
    "\n",
    "**Question 2.6.** Set `plover_statements` to an array of integer(s) that correspond to statement(s) that are true. **(6 points)**\n",
    "\n",
    "1. The 95% confidence interval covers 95% of the bird weights for eggs that had a weight of eight grams in `birds`.\n",
    "\n",
    "2. The 95% confidence interval gives a sense of how much actual weights differ from your prediction.\n",
    "\n",
    "3. The 95% confidence interval quantifies the uncertainty in our estimate of what the true line would predict."
   ]
  },
  {
   "cell_type": "code",
   "execution_count": null,
   "id": "67673c92",
   "metadata": {
    "ExecuteTime": {
     "end_time": "2018-04-11T12:05:56.479878Z",
     "start_time": "2018-04-11T12:05:56.476869Z"
    },
    "deletable": false,
    "tags": []
   },
   "outputs": [],
   "source": [
    "plover_statements = ..."
   ]
  },
  {
   "cell_type": "code",
   "execution_count": null,
   "id": "a4b0c2ea",
   "metadata": {
    "deletable": false,
    "editable": false
   },
   "outputs": [],
   "source": [
    "grader.check(\"q2_6\")"
   ]
  },
  {
   "attachments": {},
   "cell_type": "markdown",
   "id": "cde832de",
   "metadata": {},
   "source": [
    "## Pets of Data 8\n",
    "\n",
    "Alright, Data 8 students, here’s some wisdom for _studying_. You should take breaks and pet **ONLY** cats —oh, wait, how did this camera flip? Forget what I said, I’m just…a regular human with paws… I mean hands!\n",
    "\n",
    "<img src=\"./cagney.jpeg\" width=\"40%\" alt=\"some cat taking a casual selfie\"/>\n",
    "\n",
    "**Cagney** is happy you finished homework 11!"
   ]
  },
  {
   "cell_type": "markdown",
   "id": "6dc4cc6c",
   "metadata": {},
   "source": [
    "<hr style=\"border: 5px solid #003262;\" />\n",
    "<hr style=\"border: 1px solid #fdb515;\" />\n",
    "\n",
    "## Written Work Submission\n",
    "\n",
    "Below, you will see two cells. Running the first cell will automatically generate a PDF of all questions that need to be manually graded, and running the second cell will automatically generate a zip with your autograded answers. You are responsible for submitting both the coding portion (the zip) and the written portion (the PDF) to their respective Gradescope portals. **Please save before exporting!**\n",
    "\n",
    "> **Important: You must correctly assign the pages of your PDF after you submit to the correct gradescope assignment. If your pages are not correctly assigned and/or not in the correct PDF format by the deadline, we reserve the right to award no points for your written work.**\n",
    "\n",
    "If there are issues with automatically generating the PDF in the first cell, you can try downloading the notebook as a PDF by clicking on `File -> Save and Export Notebook As... -> Webpdf`. If that doesn't work either, you can manually take screenshots of your answers to the manually graded questions and submit one single PDF of your screenshots. Either way, **you are responsible for ensuring your submision follows our requirements, we will NOT be granting regrade requests for submissions that don't follow instructions.**\n",
    "\n",
    "**You must submit the PDF generated via one of these methods, we will not accept screenshots or Word documents.**"
   ]
  },
  {
   "cell_type": "code",
   "execution_count": null,
   "id": "1ef6bcfb",
   "metadata": {},
   "outputs": [],
   "source": [
    "from otter.export import export_notebook\n",
    "from os import path\n",
    "from IPython.display import display, HTML\n",
    "name = 'hw11'\n",
    "export_notebook(f\"{name}.ipynb\", filtering=True, pagebreaks=True)\n",
    "if(path.exists(f'{name}.pdf')):\n",
    "    display(HTML(f\"Download your PDF <a href='{name}.pdf' download>here</a>.\"))\n",
    "else:\n",
    "    print(\"\\n Pdf generation failed, please try the other methods described above\")"
   ]
  },
  {
   "cell_type": "markdown",
   "id": "0a1ca0d7",
   "metadata": {
    "deletable": false,
    "editable": false
   },
   "source": [
    "## Submission\n",
    "\n",
    "Make sure you have run all cells in your notebook in order before running the cell below, so that all images/graphs appear in the output. The cell below will generate a zip file for you to submit. **Please save before exporting!**"
   ]
  },
  {
   "cell_type": "code",
   "execution_count": null,
   "id": "21519998",
   "metadata": {
    "deletable": false,
    "editable": false
   },
   "outputs": [],
   "source": [
    "# Save your notebook first, then run this cell to export your submission.\n",
    "grader.export(pdf=False, run_tests=True)"
   ]
  },
  {
   "cell_type": "markdown",
   "id": "2c3dc5cf",
   "metadata": {},
   "source": [
    " "
   ]
  }
 ],
 "metadata": {
  "kernelspec": {
   "display_name": "Python 3 (ipykernel)",
   "language": "python",
   "name": "python3"
  },
  "language_info": {
   "codemirror_mode": {
    "name": "ipython",
    "version": 3
   },
   "file_extension": ".py",
   "mimetype": "text/x-python",
   "name": "python",
   "nbconvert_exporter": "python",
   "pygments_lexer": "ipython3",
   "version": "3.12.7"
  },
  "otter": {
   "OK_FORMAT": true,
   "tests": {
    "q0_1": {
     "name": "q0_1",
     "points": [
      0
     ],
     "suites": [
      {
       "cases": [
        {
         "code": ">>> len(secret_word) > 0\nTrue",
         "hidden": false,
         "locked": false
        }
       ],
       "scored": true,
       "setup": "",
       "teardown": "",
       "type": "doctest"
      }
     ]
    },
    "q1_2": {
     "name": "q1_2",
     "points": [
      0
     ],
     "suites": [
      {
       "cases": [
        {
         "code": ">>> # Ensure your correlation function returns one number between -1 and 1\n>>> abs(correlation(Table().with_columns('a', np.random.normal(0, 1, 10),'b', np.random.normal(0, 1, 10)), \"a\", \"b\")) <= 1\nTrue",
         "hidden": false,
         "locked": false
        }
       ],
       "scored": true,
       "setup": "",
       "teardown": "",
       "type": "doctest"
      }
     ]
    },
    "q1_3": {
     "name": "q1_3",
     "points": [
      0,
      0,
      2
     ],
     "suites": [
      {
       "cases": [
        {
         "code": ">>> type(fit_line(Table().with_columns('x', make_array(0, 1), 'y', make_array(1, 3)), \"x\", \"y\")) == np.ndarray\nTrue",
         "hidden": false,
         "locked": false
        },
        {
         "code": ">>> len(fit_line(Table().with_columns('x', make_array(0, 1), 'y', make_array(1, 3)), \"x\", \"y\")) == 2\nTrue",
         "hidden": false,
         "locked": false
        },
        {
         "code": ">>> np.allclose(np.round(fit_line(Table().with_columns('x', make_array(0, 1), 'y', make_array(1, 3)), \"x\", \"y\"), 5), np.array([2, 1]))\nTrue",
         "hidden": false,
         "locked": false
        }
       ],
       "scored": true,
       "setup": "",
       "teardown": "",
       "type": "doctest"
      }
     ]
    },
    "q1_4": {
     "name": "q1_4",
     "points": null,
     "suites": [
      {
       "cases": [
        {
         "code": ">>> len(resampled_slopes) == 1000\nTrue",
         "hidden": false,
         "locked": false
        }
       ],
       "scored": true,
       "setup": "",
       "teardown": "",
       "type": "doctest"
      }
     ]
    },
    "q1_5": {
     "name": "q1_5",
     "points": [
      0,
      0
     ],
     "suites": [
      {
       "cases": [
        {
         "code": ">>> lower_end > 0\nTrue",
         "hidden": false,
         "locked": false
        },
        {
         "code": ">>> upper_end < 4\nTrue",
         "hidden": false,
         "locked": false
        }
       ],
       "scored": true,
       "setup": "",
       "teardown": "",
       "type": "doctest"
      }
     ]
    },
    "q2_1": {
     "name": "q2_1",
     "points": [
      0
     ],
     "suites": [
      {
       "cases": [
        {
         "code": ">>> type(egg_weight_eight) in set([float, np.float32, np.float64])\nTrue",
         "hidden": false,
         "locked": false
        }
       ],
       "scored": true,
       "setup": "",
       "teardown": "",
       "type": "doctest"
      }
     ]
    },
    "q2_2": {
     "name": "q2_2",
     "points": [
      0
     ],
     "suites": [
      {
       "cases": [
        {
         "code": ">>> type(experts_egg) in set([float, np.float32, np.float64])\nTrue",
         "hidden": false,
         "locked": false
        }
       ],
       "scored": true,
       "setup": "",
       "teardown": "",
       "type": "doctest"
      }
     ]
    },
    "q2_3": {
     "name": "q2_3",
     "points": [
      0
     ],
     "suites": [
      {
       "cases": [
        {
         "code": ">>> len(compute_resampled_line(Table().with_columns('x', make_array(0, 1), 'y', make_array(1, 3)), \"x\", \"y\")) == 2\nTrue",
         "hidden": false,
         "locked": false
        }
       ],
       "scored": true,
       "setup": "",
       "teardown": "",
       "type": "doctest"
      }
     ]
    },
    "q2_4": {
     "name": "q2_4",
     "points": null,
     "suites": [
      {
       "cases": [
        {
         "code": ">>> len(predictions_for_eight) == regression_lines.num_rows\nTrue",
         "hidden": false,
         "locked": false
        }
       ],
       "scored": true,
       "setup": "",
       "teardown": "",
       "type": "doctest"
      }
     ]
    },
    "q2_5": {
     "name": "q2_5",
     "points": [
      0,
      0
     ],
     "suites": [
      {
       "cases": [
        {
         "code": ">>> lower_bound > 5\nTrue",
         "hidden": false,
         "locked": false
        },
        {
         "code": ">>> upper_bound < 6.5\nTrue",
         "hidden": false,
         "locked": false
        }
       ],
       "scored": true,
       "setup": "",
       "teardown": "",
       "type": "doctest"
      }
     ]
    },
    "q2_6": {
     "name": "q2_6",
     "points": [
      0
     ],
     "suites": [
      {
       "cases": [
        {
         "code": ">>> type(plover_statements) == np.ndarray\nTrue",
         "hidden": false,
         "locked": false
        }
       ],
       "scored": true,
       "setup": "",
       "teardown": "",
       "type": "doctest"
      }
     ]
    }
   }
  }
 },
 "nbformat": 4,
 "nbformat_minor": 5
}
